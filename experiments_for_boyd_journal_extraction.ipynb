{
 "cells": [
  {
   "cell_type": "markdown",
   "metadata": {},
   "source": [
    "\n",
    "# Experiments for extracting images of Boyd's Bird Journal into computer readable form\n",
    "\n",
    "(See image below)\n",
    "\n",
    "The journals are PDFs containing a series of scanned images of observations of birds. The observations are scanned handwritten notes on graph paper. There are bird species labels running down the left side of the page and date information across the top. The charts are organized by month with days of the month being column headings. There are between 2 and three months of information for each image.\n",
    "\n",
    "Each cell has a mark indicating the presence or absence of a bird species on a given day. So there is, potentially, one mark per bird species per day. The mark on the page is typically a forward slash \"/\" but it can also be an \"x\" or an asterisk \"*\". We are treating all types of marks the same, a cell either has a mark or it doesn't.\n",
    "\n",
    "Somethings to note here:\n",
    "- The graphs are not clean and contain notes and stray marks.\n",
    "- The scans do not always have nice strong lines to pick out.\n",
    "- The scans of the graphs are crooked and contain distortions, so the lines are slightly bent, typically near the edges.\n",
    "- Some of the lines are incomplete or missing. In the image below, May 1986 has more grid cells than June 1986. And the line to the left of May 1st is incomplete."
   ]
  },
  {
   "cell_type": "markdown",
   "metadata": {},
   "source": [
    "<img  src=\"assets/Boyd_M_Bird_journal_section1-024.png\"/>"
   ]
  },
  {
   "cell_type": "code",
   "execution_count": 1,
   "metadata": {},
   "outputs": [
    {
     "name": "stdout",
     "output_type": "stream",
     "text": [
      "Raphael LaFrance \n",
      "last updated: 2017-10-25T17:14:05-04:00\n",
      "\n",
      "CPython 3.6.1\n",
      "IPython 6.2.1\n",
      "\n",
      "numpy 1.13.3\n",
      "matplotlib 2.1.0\n",
      "skimage 0.13.1\n",
      "Git hash: 4b55a5f20fc0f058b158d2ed82f9306d2923be50\n",
      "Git repo: https://github.com/rafelafrance/boyd-bird-journal.git\n"
     ]
    }
   ],
   "source": [
    "%load_ext watermark\n",
    "%watermark -a 'Raphael LaFrance' -i -u -v -r -g -p numpy,matplotlib,skimage"
   ]
  },
  {
   "cell_type": "markdown",
   "metadata": {},
   "source": [
    "## Extract images from PDF files\n",
    "\n",
    "First we need to extract individual images from the PDFs. This is easily accomplished in Linux with the command `pdfimages`. This is part of either the poppler or xpdf packages. We're using `bash` to make a directory to hold the images and then extracting the PDF images into that directory. The first 20 images are not relevant here."
   ]
  },
  {
   "cell_type": "code",
   "execution_count": 2,
   "metadata": {},
   "outputs": [],
   "source": [
    "%%bash\n",
    "\n",
    "RAW_DATA='raw_data'\n",
    "DIRECTORY='images'\n",
    "\n",
    "PDF1=\"$RAW_DATA/Boyd_M_Bird_journal_section1.pdf\"\n",
    "PDF2=\"$RAW_DATA/Boyd_M_Bird_journal_section2.pdf\"\n",
    "\n",
    "PREFIX1=\"$DIRECTORY/Boyd_M_Bird_journal_section1\"\n",
    "PREFIX2=\"$DIRECTORY/Boyd_M_Bird_journal_section2\"\n",
    "\n",
    "if [ ! -d \"$DIRECTORY\" ]; then\n",
    "    mkdir $DIRECTORY\n",
    "    pdfimages -png $PDF1 $PREFIX1\n",
    "    pdfimages -png $PDF2 $PREFIX2\n",
    "fi"
   ]
  },
  {
   "cell_type": "markdown",
   "metadata": {},
   "source": [
    "## Setup\n",
    "\n",
    "We are using a fairly standard scipy stack: `numpy` & `matplotlib`. The only addition is the use of `scikit-image`."
   ]
  },
  {
   "cell_type": "code",
   "execution_count": 3,
   "metadata": {
    "ExecuteTime": {
     "end_time": "2017-09-20T21:00:21.561082Z",
     "start_time": "2017-09-20T21:00:21.336461Z"
    }
   },
   "outputs": [],
   "source": [
    "# %matplotlib notebook\n",
    "%matplotlib inline\n",
    "\n",
    "import os\n",
    "import csv\n",
    "from itertools import product\n",
    "from collections import namedtuple\n",
    "\n",
    "import numpy as np\n",
    "\n",
    "import matplotlib.pyplot as plt\n",
    "from matplotlib import patches, cm\n",
    "\n",
    "from ipywidgets import interact, interactive, fixed, interact_manual\n",
    "import ipywidgets as widgets\n",
    "\n",
    "# import cv2\n",
    "\n",
    "from skimage import io\n",
    "from skimage import util\n",
    "# from skimage.filters import sobel\n",
    "from skimage.transform import hough_line, hough_line_peaks\n",
    "from skimage.transform import probabilistic_hough_line, rotate"
   ]
  },
  {
   "cell_type": "code",
   "execution_count": 4,
   "metadata": {},
   "outputs": [],
   "source": [
    "in_file = 'images/Boyd_M_Bird_journal_section1-023.png'"
   ]
  },
  {
   "cell_type": "markdown",
   "metadata": {},
   "source": [
    "## Brief description of the Hough transform\n",
    "\n",
    "We're using the Hough Transform to find lines in the image. It's an efficient and old algorithm for finding objects in an image. Efficient because it only scans the image once.\n",
    "\n",
    "The basic idea of the algorithm is:\n",
    "\n",
    "1. Set up a table of every possible line in the image. The lines are in polar form (rho, theta).\n",
    "    1. Lines are limited to a given set of angles.\n",
    "    1. This table will hold a count of all of the \"on\" pixels for the line.\n",
    "1. Scan the image for \"on\" pixels.\n",
    "1. When a pixel is \"on\", add one to every possible line that goes thru the pixel it.\n",
    "1. After every pixel has been recorded choose all lines with a count that is greater than a given threshold.\n",
    "\n",
    "See the [Wikipedia Page](https://en.wikipedia.org/wiki/Hough_transform) for a more detailed description."
   ]
  },
  {
   "cell_type": "markdown",
   "metadata": {},
   "source": [
    "## Define some convenience objects"
   ]
  },
  {
   "cell_type": "code",
   "execution_count": 5,
   "metadata": {},
   "outputs": [],
   "source": [
    "Crop = namedtuple('Crop', 'top bottom left right')\n",
    "Offset = namedtuple('Offset', 'x y')\n",
    "Point = namedtuple('Point', 'x y')"
   ]
  },
  {
   "cell_type": "markdown",
   "metadata": {},
   "source": [
    "#### This is the main grid class. It holds the other classes."
   ]
  },
  {
   "cell_type": "code",
   "execution_count": 6,
   "metadata": {},
   "outputs": [],
   "source": [
    "class Grid:\n",
    "    \"\"\"\n",
    "    Container for other classes.\n",
    "\n",
    "    The horizontal and vertical grid lines as well as the grid cells.\n",
    "    \"\"\"\n",
    "\n",
    "    def __init__(self, *, file_name=None, grid=None, crop=None):\n",
    "        \"\"\"Make a new gird from either an image file or another grid.\"\"\"\n",
    "        if file_name:\n",
    "            self.image = io.imread(file_name)\n",
    "            self.offset = Offset(0, 0)\n",
    "        elif grid:\n",
    "            self.image = grid.image\n",
    "            self.offset = grid.offset\n",
    "            if crop:\n",
    "                self.image = util.crop(self.image, ((crop.top, crop.bottom),\n",
    "                                                    (crop.left, crop.right)))\n",
    "                self.offset = Offset(\n",
    "                    x=self.offset.x + crop.left, y=self.offset.y + crop.top)\n",
    "\n",
    "        self.edges = util.invert(self.image)\n",
    "\n",
    "        self.horiz = Horizontal(self.edges)\n",
    "        self.vert = Vertical(self.edges)\n",
    "\n",
    "        self.cells = []\n",
    "        self.row_labels = []\n",
    "        self.col_labels = []\n",
    "\n",
    "    @property\n",
    "    def header_row(self):\n",
    "        \"\"\"An alias for the first row.\"\"\"\n",
    "        return self.cells[0]\n",
    "\n",
    "    @property\n",
    "    def shape(self):\n",
    "        \"\"\"Make it easy to get the image shape.\"\"\"\n",
    "        return self.edges.shape\n",
    "\n",
    "    @property\n",
    "    def width(self):\n",
    "        \"\"\"Make it easy to get the image width.\"\"\"\n",
    "        return self.horiz.size\n",
    "\n",
    "    @property\n",
    "    def height(self):\n",
    "        \"\"\"Make it easy to get the image height.\"\"\"\n",
    "        return self.vert.size\n",
    "\n",
    "    def get_cells(self):\n",
    "        \"\"\"Build the grid cells from the grid lines.\"\"\"\n",
    "        self.cells = []\n",
    "        for row, (top, bottom) in enumerate(\n",
    "                zip(self.horiz.lines[:-1], self.horiz.lines[1:])):\n",
    "            self.cells.append([])\n",
    "            for (left, right) in zip(self.vert.lines[:-1],\n",
    "                                     self.vert.lines[1:]):\n",
    "                self.cells[row].append(Cell(self, top, bottom, left, right))\n",
    "\n",
    "    def get_row_labels(self):\n",
    "        \"\"\"Get row labels for the cells.\"\"\"\n",
    "        self.row_labels = [row[1].is_row_label() for row in self.cells]\n",
    "        for i in range(1, len(self.row_labels) - 2):\n",
    "            if self.row_labels[i - 1] and self.row_labels[i + 1]:\n",
    "                self.row_labels[i] = True\n",
    "\n",
    "    def get_col_labels(self):\n",
    "        \"\"\"Get column labels for the cells.\"\"\"\n",
    "        self.col_labels = []\n",
    "        for cell in self.header_row:\n",
    "            self.col_labels.append(False)\n",
    "            days = sum(self.col_labels)\n",
    "            proper_size = cell.width > 8 and cell.height > 8\n",
    "            if proper_size and days:\n",
    "                self.col_labels[-1] = days < 31 and cell.is_col_label()\n",
    "            elif proper_size:\n",
    "                proper_shape = cell.width / cell.height < 2\n",
    "                self.col_labels[-1] = proper_shape and cell.is_col_label()\n",
    "        for i in range(1, len(self.col_labels) - 2):\n",
    "            if self.col_labels[i - 1] and self.col_labels[i + 1]:\n",
    "                self.col_labels[i] = True"
   ]
  },
  {
   "cell_type": "markdown",
   "metadata": {},
   "source": [
    "#### This is the base object for working with grid lines. We use if for both vertical and horizontal grid lines."
   ]
  },
  {
   "cell_type": "code",
   "execution_count": 7,
   "metadata": {},
   "outputs": [],
   "source": [
    "def intersection(line1, line2):\n",
    "    \"\"\"Given two lines find their intersection.\"\"\"\n",
    "    (x_1, y_1), (x_2, y_2) = line1\n",
    "    (x_3, y_3), (x_4, y_4) = line2\n",
    "    denom = (x_1 - x_2) * (y_3 - y_4) - (y_1 - y_2) * (x_3 - x_4)\n",
    "    num1 = x_1 * y_2 - y_1 * x_2\n",
    "    num2 = x_3 * y_4 - y_3 * x_4\n",
    "    point_x = num1 * (x_3 - x_4) - (x_1 - x_2) * num2\n",
    "    point_x /= denom\n",
    "    point_y = num1 * (y_3 - y_4) - (y_1 - y_2) * num2\n",
    "    point_y /= denom\n",
    "    return Point(int(point_x), int(point_y))"
   ]
  },
  {
   "cell_type": "code",
   "execution_count": 8,
   "metadata": {},
   "outputs": [],
   "source": [
    "class GridLines:\n",
    "    \"\"\"The base object for both hoizontal and vertical grid lines.\"\"\"\n",
    "\n",
    "    near_horiz = np.deg2rad(np.linspace(-2.0, 2.0, num=41))\n",
    "    near_vert = np.deg2rad(np.linspace(88.0, 92.0, num=41))\n",
    "\n",
    "    # I'm not sure why this is required?!\n",
    "    near_horiz, near_vert = near_vert, near_horiz\n",
    "\n",
    "    def __init__(self, image):\n",
    "        \"\"\"Initialize data common to all grid lines.\"\"\"\n",
    "        self.image = image\n",
    "        self.thetas = None\n",
    "        self.angles = []\n",
    "        self.dists = []\n",
    "        self.lines = []\n",
    "        self.threshold = 500\n",
    "        self.min_distance = 40\n",
    "\n",
    "    def find_lines(self):\n",
    "        \"\"\"Find the grid lines using the Hough Transform.\"\"\"\n",
    "        h_matrix, h_angles, h_dist = hough_line(self.image, self.thetas)\n",
    "\n",
    "        _, self.angles, self.dists = hough_line_peaks(\n",
    "            h_matrix,\n",
    "            h_angles,\n",
    "            h_dist,\n",
    "            threshold=self.threshold,\n",
    "            min_distance=self.min_distance)\n",
    "\n",
    "    def polar2endpoints(self, theta, rho):\n",
    "        \"\"\"\n",
    "        Convert a line given in polar coordinates to line segment end points.\n",
    "\n",
    "        The Hough Transform returns the lines in polar form but matplotlib uses\n",
    "        line segment end points.\n",
    "        \"\"\"\n",
    "        if np.abs(theta) > np.pi / 4:\n",
    "            x_0 = 0\n",
    "            x_1 = self.image.shape[1]\n",
    "            y_0 = int(np.round(rho / np.sin(theta)))\n",
    "            y_1 = int(np.round((rho - x_1 * np.cos(theta)) / np.sin(theta)))\n",
    "        else:\n",
    "            y_0 = 0\n",
    "            y_1 = self.image.shape[0]\n",
    "            x_0 = int(np.round(rho / np.cos(theta)))\n",
    "            x_1 = int(np.round((rho - y_1 * np.sin(theta)) / np.cos(theta)))\n",
    "\n",
    "        return [x_0, y_0], [x_1, y_1]\n",
    "\n",
    "    def add_line(self, point1, point2):\n",
    "        \"\"\"\n",
    "        Add a line to the list of lines.\n",
    "\n",
    "        Because of the way we use line pair for finding grid cells we need to\n",
    "        keep the list of lines sorted.\n",
    "        \"\"\"\n",
    "        self.lines.append((point1, point2))\n",
    "        self.sort_lines()\n",
    "\n",
    "    def sort_lines(self):\n",
    "        \"\"\"Sort lines by its distance from the origin.\"\"\"\n",
    "        self.lines = sorted(self.lines, key=self.sort_key)\n",
    "\n",
    "    @staticmethod\n",
    "    def sort_key(key):\n",
    "        \"\"\"Horizontal lines are sorted by their distance on the y-axis.\"\"\"\n",
    "        return key[0][1]\n",
    "\n",
    "    def find_line_end_points(self):\n",
    "        \"\"\"Find, convert, and sort the grid lines.\"\"\"\n",
    "        self.find_lines()\n",
    "\n",
    "        self.lines = [\n",
    "            self.polar2endpoints(theta, rho)\n",
    "            for (theta, rho) in zip(self.angles, self.dists)]\n",
    "\n",
    "        self.sort_lines()"
   ]
  },
  {
   "cell_type": "markdown",
   "metadata": {},
   "source": [
    "#### Given a set of near horizontal angles we can find horizontal grid lines"
   ]
  },
  {
   "cell_type": "code",
   "execution_count": 9,
   "metadata": {},
   "outputs": [],
   "source": [
    "class Horizontal(GridLines):\n",
    "    \"\"\"Contains logic that is unique to the horizontal grid lines.\"\"\"\n",
    "\n",
    "    def __init__(self, image):\n",
    "        \"\"\"Build horizontal grid lines.\"\"\"\n",
    "        super().__init__(image)\n",
    "        self.size = image.shape[1]\n",
    "        self.thetas = self.near_horiz\n",
    "        self.threshold = self.size * 0.4\n",
    "\n",
    "    def find_grid_lines(self, add_top_edge=False, add_bottom_edge=False):\n",
    "        \"\"\"Find horizontal grid lines and add extra lines.\"\"\"\n",
    "        super().find_line_end_points()\n",
    "\n",
    "        if add_top_edge:\n",
    "            self.add_line([0, 0], [self.image.shape[1], 0])\n",
    "\n",
    "        if add_bottom_edge:\n",
    "            self.add_line([0, self.image.shape[0]],\n",
    "                          [self.image.shape[1], self.image.shape[0]])\n",
    "\n",
    "    @staticmethod\n",
    "    def sort_key(key):\n",
    "        \"\"\"Horizontal lines are sorted by their distance on the y-axis.\"\"\"\n",
    "        return key[0][1]"
   ]
  },
  {
   "cell_type": "markdown",
   "metadata": {},
   "source": [
    "#### Given a set of near vertical angles we can find vertical grid lines"
   ]
  },
  {
   "cell_type": "code",
   "execution_count": 10,
   "metadata": {},
   "outputs": [],
   "source": [
    "class Vertical(GridLines):\n",
    "    \"\"\"Contains logic that is unique to the vertical grid lines.\"\"\"\n",
    "\n",
    "    def __init__(self, image):\n",
    "        \"\"\"Build vertical grid lines.\"\"\"\n",
    "        super().__init__(image)\n",
    "        self.size = image.shape[0]\n",
    "        self.thetas = self.near_vert\n",
    "        self.threshold = self.size * 0.25\n",
    "\n",
    "    def find_grid_lines(self, add_left_edge=False, add_right_edge=False):\n",
    "        \"\"\"Find vertical grid lines and add extra lines.\"\"\"\n",
    "        super().find_line_end_points()\n",
    "\n",
    "        if add_left_edge:\n",
    "            self.add_line([0, 0], [0, self.image.shape[0]])\n",
    "\n",
    "        if add_right_edge:\n",
    "            self.add_line([self.image.shape[1], 0],\n",
    "                          [self.image.shape[1], self.image.shape[0]])\n",
    "\n",
    "    @staticmethod\n",
    "    def sort_key(key):\n",
    "        \"\"\"Verical lines are sorted by their distance on the x-axis.\"\"\"\n",
    "        return key[0][0]"
   ]
  },
  {
   "cell_type": "markdown",
   "metadata": {},
   "source": [
    "#### Given horizontal and vertical grid lines we can define a grid cell"
   ]
  },
  {
   "cell_type": "code",
   "execution_count": 11,
   "metadata": {},
   "outputs": [],
   "source": [
    "class Cell:\n",
    "    \"\"\"Data and functions for dealing with cell contents.\"\"\"\n",
    "\n",
    "    row_label_threshold = 20\n",
    "    col_label_threshold = 20\n",
    "    crop = ((4, 4), (4, 4))\n",
    "    forward_slashes = np.deg2rad(np.linspace(65.0, 25.0, num=161))\n",
    "\n",
    "    def __init__(self, grid, top=None, bottom=None, left=None, right=None):\n",
    "        \"\"\"\n",
    "        Build a cell from the 4 surrounding grid lines.\n",
    "\n",
    "        We will also get the for corners of the cell by finding the\n",
    "        intersection of the grid lines.\n",
    "        \"\"\"\n",
    "        self.image = grid.edges\n",
    "        self.top_left = intersection(top, left)\n",
    "        self.bottom_left = intersection(bottom, left)\n",
    "        self.top_right = intersection(top, right)\n",
    "        self.bottom_right = intersection(bottom, right)\n",
    "        self.width = self.top_right.x - self.top_left.x\n",
    "        self.height = self.bottom_left.y - self.top_left.y\n",
    "        self.offset = Offset(\n",
    "            x=grid.offset.x + self.top_left.x,\n",
    "            y=grid.offset.y + self.top_left.y)\n",
    "\n",
    "    def interior(self, crop=None):\n",
    "        \"\"\"\n",
    "        Get the interior image of the cell.\n",
    "\n",
    "        Sometimes we will want to crop the interior to try and remove the\n",
    "        surrounding grid lines. That is, we want the cell contents, not the\n",
    "        grid lines.\n",
    "        \"\"\"\n",
    "        top = max(self.top_left.y, self.top_right.y)\n",
    "        bottom = self.image.shape[0] - min(self.bottom_left.y,\n",
    "                                           self.bottom_right.y)\n",
    "        left = max(self.top_left.x, self.bottom_left.x)\n",
    "        right = self.image.shape[1] - min(self.top_right.x,\n",
    "                                          self.bottom_right.x)\n",
    "\n",
    "        inside = util.crop(self.image, ((top, bottom), (left, right)))\n",
    "\n",
    "        if crop:\n",
    "            inside = util.crop(inside, crop)\n",
    "\n",
    "        return inside\n",
    "\n",
    "    def is_row_label(self):\n",
    "        \"\"\"Determine if the cell is a row label.\"\"\"\n",
    "        return np.mean(self.interior(self.crop)) > self.row_label_threshold\n",
    "\n",
    "    def is_col_label(self):\n",
    "        \"\"\"Determine if the cell is a column label.\"\"\"\n",
    "        inside = self.interior(crop=self.crop)\n",
    "        lines = self.has_line()\n",
    "        return bool(len(lines)) or np.mean(inside) > self.col_label_threshold\n",
    "\n",
    "    def has_line(self, angles=None):\n",
    "        \"\"\"Determine if the cell has a line at any of the given angles.\"\"\"\n",
    "        return probabilistic_hough_line(\n",
    "            self.interior(crop=self.crop),\n",
    "            line_length=15,\n",
    "            line_gap=2,\n",
    "            theta=angles)\n",
    "\n",
    "    def get_patch(self):\n",
    "        \"\"\"Get the cell patch for output.\"\"\"\n",
    "        width = self.top_right.x - self.top_left.x\n",
    "        height = self.bottom_left.y - self.top_left.y\n",
    "        offset_x = self.offset.x\n",
    "        offset_y = self.offset.y\n",
    "        return (offset_x, offset_y), width, height"
   ]
  },
  {
   "cell_type": "code",
   "execution_count": 12,
   "metadata": {},
   "outputs": [],
   "source": [
    "full_image = Grid(file_name=in_file)"
   ]
  },
  {
   "cell_type": "markdown",
   "metadata": {},
   "source": [
    "## Split the image into left-hand and right-hand sides"
   ]
  },
  {
   "cell_type": "code",
   "execution_count": 13,
   "metadata": {},
   "outputs": [],
   "source": [
    "def split_image(image):\n",
    "    \"\"\"Split the image into left and right halves.\"\"\"\n",
    "    crop_right_side = int(image.width / 2) + 200\n",
    "    crop_left_side = image.width - crop_right_side\n",
    "\n",
    "    left_side = Grid(grid=image, crop=Crop(\n",
    "        top=0, bottom=0, left=0, right=crop_right_side))\n",
    "    right_side = Grid(grid=image, crop=Crop(\n",
    "        top=0, bottom=0, left=crop_left_side, right=0))\n",
    "\n",
    "    return left_side, right_side"
   ]
  },
  {
   "cell_type": "code",
   "execution_count": 14,
   "metadata": {},
   "outputs": [
    {
     "name": "stdout",
     "output_type": "stream",
     "text": [
      "(5100, 3300)\n",
      "(5100, 1450)\n",
      "(5100, 1850)\n"
     ]
    }
   ],
   "source": [
    "left_side, right_side = split_image(full_image)\n",
    "\n",
    "print(full_image.shape)\n",
    "print(left_side.shape)\n",
    "print(right_side.shape)"
   ]
  },
  {
   "cell_type": "markdown",
   "metadata": {},
   "source": [
    "## Get the horizontal and vertical grid lines\n",
    "\n",
    "As described above, we need to define a line as a threshold on the line count. However, there is a wrinkle, the images are not square with the width being the shorter dimension (3300px width x 5100px height). To accommodate this we will make two passes over the image. One for the horizontal lines and one for the vertical line."
   ]
  },
  {
   "cell_type": "code",
   "execution_count": 15,
   "metadata": {},
   "outputs": [],
   "source": [
    "left_side.horiz.find_grid_lines(add_top_edge=True,\n",
    "                                add_bottom_edge=True)\n",
    "left_side.vert.find_grid_lines(add_left_edge=True,\n",
    "                               add_right_edge=True)\n"
   ]
  },
  {
   "cell_type": "markdown",
   "metadata": {},
   "source": [
    "#### Add a vertical grid line after the first one.\n",
    "\n",
    "We're expecting two columns of cells on the left side of the image. The cells are rather long and typically have lots of whitespace toward the right end. We expect the 1st cell to have a row number and the 2nd cell to have the bird's species identification. We are going to look at the 2nd cell to see if there is any writing in it. To help boost the signal we are going to chop the 2nd cell at a fixed width and look at that part for writing."
   ]
  },
  {
   "cell_type": "code",
   "execution_count": 16,
   "metadata": {},
   "outputs": [],
   "source": [
    "def add_vert_line(image, *, after_this_line=None, width=200):\n",
    "    \"\"\"\n",
    "    Add a vertical line to the grid.\n",
    "\n",
    "    We use this for finding row labels.\n",
    "    \"\"\"\n",
    "    left = after_this_line[0][0] + width\n",
    "    point1 = [left, 0]\n",
    "    point2 = [left, image.height]\n",
    "    image.vert.add_line(point1, point2)"
   ]
  },
  {
   "cell_type": "code",
   "execution_count": 17,
   "metadata": {},
   "outputs": [],
   "source": [
    "add_vert_line(left_side, after_this_line=left_side.vert.lines[1])"
   ]
  },
  {
   "cell_type": "markdown",
   "metadata": {},
   "source": [
    "#### Look at the grid from the left side of the image"
   ]
  },
  {
   "cell_type": "code",
   "execution_count": 18,
   "metadata": {},
   "outputs": [
    {
     "data": {
      "image/png": "[encoded data removed]",
      "text/plain": [
       "<matplotlib.figure.Figure at 0x7f303cc229b0>"
      ]
     },
     "metadata": {},
     "output_type": "display_data"
    }
   ],
   "source": [
    "fig, ax = plt.subplots(figsize=(2, 4))\n",
    "ax.imshow(left_side.image, cmap=plt.cm.gray)\n",
    "\n",
    "for ((x0, y0), (x1, y1)) in left_side.horiz.lines:\n",
    "    ax.plot((x0, x1), (y0, y1), '-y', linewidth=1)\n",
    "\n",
    "for ((x0, y0), (x1, y1)) in left_side.vert.lines:\n",
    "    ax.plot((x0, x1), (y0, y1), '-r', linewidth=1)"
   ]
  },
  {
   "cell_type": "markdown",
   "metadata": {},
   "source": [
    "## Get grid cells in the left side of the image\n",
    "\n",
    "We want the interior area of each cell."
   ]
  },
  {
   "cell_type": "code",
   "execution_count": 19,
   "metadata": {},
   "outputs": [
    {
     "name": "stdout",
     "output_type": "stream",
     "text": [
      "101\n",
      "3\n"
     ]
    }
   ],
   "source": [
    "left_side.get_cells()\n",
    "left_side.get_row_labels()\n",
    "\n",
    "print(len(left_side.cells))\n",
    "print(len(left_side.cells[0]))"
   ]
  },
  {
   "cell_type": "markdown",
   "metadata": {},
   "source": [
    "## Look for writing in the second cell of each row"
   ]
  },
  {
   "cell_type": "code",
   "execution_count": 20,
   "metadata": {},
   "outputs": [],
   "source": [
    "left_side.get_row_labels()"
   ]
  },
  {
   "cell_type": "code",
   "execution_count": 21,
   "metadata": {},
   "outputs": [
    {
     "name": "stdout",
     "output_type": "stream",
     "text": [
      "has label\n"
     ]
    },
    {
     "data": {
      "image/png": "[encoded data removed]",
      "text/plain": [
       "<matplotlib.figure.Figure at 0x7f30370a2860>"
      ]
     },
     "metadata": {},
     "output_type": "display_data"
    }
   ],
   "source": [
    "# @interact(row=(0, len(left_side.cells) - 1), col=(0, len(left_side.cells[0]) - 1))\n",
    "def draw_row_label_interior(row, col):\n",
    "    print('has label' if left_side.row_labels[row] else 'no label')\n",
    "    fig, ax = plt.subplots(figsize=(6, 2))\n",
    "    ax.imshow(left_side.cells[row][col].interior(crop=Cell.crop), cmap=plt.cm.gray)\n",
    "\n",
    "draw_row_label_interior(24, 1)"
   ]
  },
  {
   "cell_type": "markdown",
   "metadata": {},
   "source": [
    "### Now split the right side into separate graphs"
   ]
  },
  {
   "cell_type": "code",
   "execution_count": 22,
   "metadata": {},
   "outputs": [
    {
     "name": "stdout",
     "output_type": "stream",
     "text": [
      "(1503, 1850)\n",
      "(938, 1850)\n"
     ]
    }
   ],
   "source": [
    "def get_month_graph_areas(left_side, right_side):\n",
    "    \"\"\"Chop the right side image into images for each month.\"\"\"\n",
    "    months = []\n",
    "    for curr_row, row in enumerate(left_side.row_labels[1:], 1):\n",
    "\n",
    "        prev_row = curr_row - 1\n",
    "        if not left_side.row_labels[prev_row] and row:\n",
    "            top = left_side.cells[prev_row][1].top_right.y\n",
    "\n",
    "        if left_side.row_labels[prev_row] and not row:\n",
    "            bottom = left_side.cells[curr_row][1].bottom_right.y\n",
    "            months.append(\n",
    "                Grid(\n",
    "                    grid=right_side,\n",
    "                    crop=Crop(\n",
    "                        top=top,\n",
    "                        bottom=right_side.height - bottom,\n",
    "                        left=0,\n",
    "                        right=0)))\n",
    "    return months\n",
    "\n",
    "months = get_month_graph_areas(left_side, right_side)\n",
    "\n",
    "for month in months:\n",
    "    print(month.shape)"
   ]
  },
  {
   "cell_type": "code",
   "execution_count": 23,
   "metadata": {},
   "outputs": [
    {
     "ename": "NameError",
     "evalue": "name 'm' is not defined",
     "output_type": "error",
     "traceback": [
      "\u001b[0;31m---------------------------------------------------------------------------\u001b[0m",
      "\u001b[0;31mNameError\u001b[0m                                 Traceback (most recent call last)",
      "\u001b[0;32m<ipython-input-23-b857d8f0c562>\u001b[0m in \u001b[0;36m<module>\u001b[0;34m()\u001b[0m\n\u001b[1;32m     12\u001b[0m \u001b[0;32mfor\u001b[0m \u001b[0mmonth\u001b[0m \u001b[0;32min\u001b[0m \u001b[0mmonths\u001b[0m\u001b[0;34m:\u001b[0m\u001b[0;34m\u001b[0m\u001b[0m\n\u001b[1;32m     13\u001b[0m     print('month: {} rows: {}  cols: {}'.format(\n\u001b[0;32m---> 14\u001b[0;31m         m, len(month.cells), len(month.cells[0])))\n\u001b[0m\u001b[1;32m     15\u001b[0m     \u001b[0mprint\u001b[0m\u001b[0;34m(\u001b[0m\u001b[0mlist\u001b[0m\u001b[0;34m(\u001b[0m\u001b[0menumerate\u001b[0m\u001b[0;34m(\u001b[0m\u001b[0mmonth\u001b[0m\u001b[0;34m.\u001b[0m\u001b[0mcol_labels\u001b[0m\u001b[0;34m)\u001b[0m\u001b[0;34m)\u001b[0m\u001b[0;34m)\u001b[0m\u001b[0;34m\u001b[0m\u001b[0m\n",
      "\u001b[0;31mNameError\u001b[0m: name 'm' is not defined"
     ]
    }
   ],
   "source": [
    "def build_month_graphs(months):\n",
    "    \"\"\"Find the grid for each month.\"\"\"\n",
    "    for month in months:\n",
    "        month.horiz.find_grid_lines(add_bottom_edge=True)\n",
    "        month.vert.find_grid_lines(add_left_edge=True, add_right_edge=True)\n",
    "\n",
    "        month.get_cells()\n",
    "        month.get_col_labels()\n",
    "\n",
    "build_month_graphs(months)\n",
    "\n",
    "for m, month in enumerate(months):\n",
    "    print('month: {} rows: {}  cols: {}'.format(\n",
    "        m, len(month.cells), len(month.cells[0])))\n",
    "    print(list(enumerate(month.col_labels)))"
   ]
  },
  {
   "cell_type": "markdown",
   "metadata": {},
   "source": [
    "#### Look the resulting grid"
   ]
  },
  {
   "cell_type": "code",
   "execution_count": null,
   "metadata": {},
   "outputs": [],
   "source": [
    "@interact(mon=(0, len(months) - 1))\n",
    "def show_month_grid(mon):\n",
    "    month = months[mon]\n",
    "    fig, ax = plt.subplots(figsize=(6, 6))\n",
    "\n",
    "    ax.imshow(month.image, cmap=plt.cm.gray)\n",
    "    ax.set_title('Grid {}'.format(mon))\n",
    "\n",
    "    for ((x0, y0), (x1, y1)) in month.horiz.lines:\n",
    "        ax.plot((x0, x1), (y0, y1), '-y', linewidth=1)\n",
    "\n",
    "    for ((x0, y0), (x1, y1)) in month.vert.lines:\n",
    "        ax.plot((x0, x1), (y0, y1), '-r', linewidth=1)\n",
    "\n",
    "    plt.tight_layout()\n",
    "    plt.show()\n",
    "\n",
    "# show_month_grid(0)"
   ]
  },
  {
   "cell_type": "markdown",
   "metadata": {},
   "source": [
    "### Find column labels"
   ]
  },
  {
   "cell_type": "code",
   "execution_count": null,
   "metadata": {},
   "outputs": [],
   "source": [
    "@interact(mon=(0, len(months) - 1), col=(0, 35))\n",
    "def draw_column_header_interior(mon, col):\n",
    "    month = months[mon]\n",
    "    col = -1 if col >= len(month.cells[0]) else col\n",
    "\n",
    "    cell = month.cells[0][col]\n",
    "    interior = cell.interior(crop=Cell.crop)\n",
    "\n",
    "    mean = np.mean(interior)\n",
    "    print('mean', mean)\n",
    "    print('proper shape {}'.format(cell.width / cell.height < 2))\n",
    "    print('proper size {}'.format(cell.width > 8 and cell.height > 8))\n",
    "    print('yes' if cell.is_col_label() else '')\n",
    "\n",
    "    fig, ax = plt.subplots(figsize=(3, 3))\n",
    "    ax.imshow(interior, cmap=plt.cm.gray)\n",
    "\n",
    "    lines = cell.has_line()\n",
    "    for ((x0, y0), (x1, y1)) in lines:\n",
    "        ax.plot((x0, x1), (y0, y1), '-r', linewidth=1)\n",
    "\n",
    "# draw_column_header_interior(0, 1)"
   ]
  },
  {
   "cell_type": "markdown",
   "metadata": {},
   "source": [
    "### Look for forward slashes in grid cells"
   ]
  },
  {
   "cell_type": "code",
   "execution_count": null,
   "metadata": {},
   "outputs": [],
   "source": [
    "forward_slashes = np.linspace(65.0, 25.0, num=161)\n",
    "print(forward_slashes)\n",
    "forward_slashes = np.deg2rad(forward_slashes)"
   ]
  },
  {
   "cell_type": "code",
   "execution_count": null,
   "metadata": {
    "scrolled": false
   },
   "outputs": [],
   "source": [
    "@interact(mon=(0, len(months) - 1), row=(1, 40), col=(0, 35))\n",
    "def draw_cell_interior(mon, row, col):\n",
    "    month = months[mon]\n",
    "    row = -1 if row >= len(month.cells) else row\n",
    "    col = -1 if col >= len(month.cells[0]) else col\n",
    "\n",
    "    cell = month.cells[row][col]\n",
    "    interior = cell.interior(Cell.crop)\n",
    "\n",
    "    fig, ax = plt.subplots(figsize=(3, 3))\n",
    "    ax.imshow(interior, cmap=plt.cm.gray)\n",
    "\n",
    "    lines = probabilistic_hough_line(\n",
    "        interior, line_length=15, theta=forward_slashes)\n",
    "    for ((x0, y0), (x1, y1)) in lines:\n",
    "        ax.plot((x0, x1), (y0, y1), '-r', linewidth=1)\n",
    "\n",
    "    print('lines', len(lines))\n",
    "    print('yes' if len(lines) else '')\n",
    "\n",
    "\n",
    "# draw_cell_interior(1, 18, 30)\n",
    "# draw_cell_interior(1, 27, 27)"
   ]
  },
  {
   "cell_type": "code",
   "execution_count": null,
   "metadata": {},
   "outputs": [],
   "source": [
    "@interact(mon=(0, len(months) - 1))\n",
    "def show_slashes(mon):\n",
    "    month = months[mon]\n",
    "    for row in month.cells[1:-1]:\n",
    "        for col, cell in enumerate(row):\n",
    "            if month.col_labels[col]:\n",
    "                print('/' if cell.has_line(forward_slashes) else '.', end=' ')\n",
    "        print()\n",
    "# show_slashes(0)"
   ]
  },
  {
   "cell_type": "markdown",
   "metadata": {},
   "source": [
    "### Stitch image parts back together to report output\n",
    "\n",
    "This image shows how we broke up the input image to get the monthly charts. Doing it this way reduces distortion."
   ]
  },
  {
   "cell_type": "code",
   "execution_count": null,
   "metadata": {},
   "outputs": [],
   "source": [
    "fig, ax = plt.subplots(figsize=(8, 8))\n",
    "ax.imshow(full_image.image, cmap=plt.cm.gray)\n",
    "\n",
    "for ((x0, y0), (x1, y1)) in left_side.horiz.lines:\n",
    "    ax.plot((x0, x1), (y0, y1), '-y', linewidth=1)\n",
    "\n",
    "for ((x0, y0), (x1, y1)) in left_side.vert.lines:\n",
    "    ax.plot((x0, x1), (y0, y1), '-r', linewidth=1)\n",
    "\n",
    "for month in months:\n",
    "    for ((x0, y0), (x1, y1)) in month.horiz.lines:\n",
    "        x0 += month.offset.x\n",
    "        x1 += month.offset.x\n",
    "        y0 += month.offset.y\n",
    "        y1 += month.offset.y\n",
    "        ax.plot((x0, x1), (y0, y1), '-g', linewidth=1)\n",
    "\n",
    "    for ((x0, y0), (x1, y1)) in month.vert.lines:\n",
    "        x0 += month.offset.x\n",
    "        x1 += month.offset.x\n",
    "        y0 += month.offset.y\n",
    "        y1 += month.offset.y\n",
    "        ax.plot((x0, x1), (y0, y1), '-r', linewidth=1)\n",
    "\n",
    "plt.show()"
   ]
  },
  {
   "cell_type": "markdown",
   "metadata": {},
   "source": [
    "## Output the results"
   ]
  },
  {
   "cell_type": "code",
   "execution_count": null,
   "metadata": {},
   "outputs": [],
   "source": [
    "file_name = os.path.basename(in_file)\n",
    "\n",
    "base_name, _ = os.path.splitext(file_name)\n",
    "csv_path = os.path.join('output', base_name + '.csv')\n",
    "img_path = os.path.join('output', base_name + '_out.png')\n",
    "\n",
    "\n",
    "with open(csv_path, 'w', newline='') as csv_file:\n",
    "    writer = csv.writer(csv_file)\n",
    "    header = ['file_name', 'chart_in_file',\n",
    "              'year', 'month', 'row_no', 'bird_species']\n",
    "    header += [i for i in range(1, 32)]\n",
    "    writer.writerow(header)\n",
    "\n",
    "    fig, ax = plt.subplots(figsize=(10, 15.45), frameon=False)\n",
    "    ax.imshow(full_image.image, cmap=plt.cm.gray)\n",
    "    ax.axis('off')\n",
    "\n",
    "    # Color in row labels\n",
    "    for r, row in enumerate(left_side.cells):\n",
    "        if left_side.row_labels[r]:\n",
    "            nw, width, height = row[0].get_patch()\n",
    "            ax.add_patch(patches.Rectangle(\n",
    "                nw, width, height, alpha=0.5, facecolor='#feb209'))\n",
    "\n",
    "    for m, month in enumerate(months):\n",
    "\n",
    "        # Color in column labels\n",
    "        for col, cell in enumerate(month.cells[0]):\n",
    "            if month.col_labels[col]:\n",
    "                nw, width, height = cell.get_patch()\n",
    "                ax.add_patch(patches.Rectangle(\n",
    "                    nw, width, height, alpha=0.5, facecolor='#feb209'))\n",
    "\n",
    "        # Color in grid cells with slashes\n",
    "        for r, cell_row in enumerate(month.cells[1:-1]):\n",
    "            row = [base_name, m + 1, '', '', r + 1, '']\n",
    "            csv_cells = ['' for i in range(31)]\n",
    "            day = -1\n",
    "            for col, cell in enumerate(cell_row):\n",
    "                if month.col_labels[col]:\n",
    "                    day += 1\n",
    "                    if cell.has_line(forward_slashes):\n",
    "                        nw, width, height = cell.get_patch()\n",
    "                        ax.add_patch(patches.Rectangle(\n",
    "                            nw, width, height, alpha=0.5, facecolor='#39ad48'))\n",
    "                        csv_cells[day] = 1\n",
    "            row += csv_cells\n",
    "            writer.writerow(row)\n",
    "\n",
    "plt.savefig(img_path, dpi=300, bbox_inches='tight')"
   ]
  },
  {
   "cell_type": "markdown",
   "metadata": {},
   "source": [
    "# Failed experiments"
   ]
  },
  {
   "cell_type": "markdown",
   "metadata": {},
   "source": [
    "- Try merging endpoints: Lines are pretty skew across the entire image. I tried to use interior points to make grid lines. This didn't really help things.\n",
    "\n",
    "- Probabilistic Hough line: This may work for other parts of the image, like slashes, but it didn't help with either grid lines or row labels. It proved to be much slower and harder to tune for finding grid lines that span the entire image.\n",
    "\n",
    "- OpenCV: This works, it's just less flexible for searching on a limited set of angles. The ability to pull out the horizontal, vertical, and diagonal lines separately is useful in this application. Also, OpenCV is difficult to install."
   ]
  }
 ],
 "metadata": {
  "kernelspec": {
   "display_name": "Python 3",
   "language": "python",
   "name": "python3"
  },
  "language_info": {
   "codemirror_mode": {
    "name": "ipython",
    "version": 3
   },
   "file_extension": ".py",
   "mimetype": "text/x-python",
   "name": "python",
   "nbconvert_exporter": "python",
   "pygments_lexer": "ipython3",
   "version": "3.6.1"
  }
 },
 "nbformat": 4,
 "nbformat_minor": 1
}
